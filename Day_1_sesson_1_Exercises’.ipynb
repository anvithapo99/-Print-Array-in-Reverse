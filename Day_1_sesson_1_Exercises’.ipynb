{
  "nbformat": 4,
  "nbformat_minor": 0,
  "metadata": {
    "colab": {
      "name": "Day 1 sesson 1 Exercises’.ipynb",
      "provenance": [],
      "authorship_tag": "ABX9TyOTrvXCch1oWI2e1tWSeyqw",
      "include_colab_link": true
    },
    "kernelspec": {
      "name": "python3",
      "display_name": "Python 3"
    }
  },
  "cells": [
    {
      "cell_type": "markdown",
      "metadata": {
        "id": "view-in-github",
        "colab_type": "text"
      },
      "source": [
        "<a href=\"https://colab.research.google.com/github/anvithapo99/-Print-Array-in-Reverse/blob/master/Day_1_sesson_1_Exercises%E2%80%99.ipynb\" target=\"_parent\"><img src=\"https://colab.research.google.com/assets/colab-badge.svg\" alt=\"Open In Colab\"/></a>"
      ]
    },
    {
      "cell_type": "code",
      "metadata": {
        "id": "7ihinLnBXSTL",
        "colab_type": "code",
        "colab": {}
      },
      "source": [
        "#Python Program to Add Two Numbers getting through key board\n",
        "\n",
        "# sum of two nos\n",
        "num1 = int(input(\"Enter first no\"))\n",
        "num2 = int(input(\"Enter second no\"))\n",
        "\n",
        "# Adding the two numbers\n",
        "sum = num1 + num2\n",
        "\n",
        "# Display the sum\n",
        "print('The sum of {0} and {1} is {2}'.format(num1, num2, sum))\n"
      ],
      "execution_count": 0,
      "outputs": []
    },
    {
      "cell_type": "code",
      "metadata": {
        "id": "Tsr2lxm1XaxG",
        "colab_type": "code",
        "colab": {}
      },
      "source": [
        "#Python program to check if the input year is a leap year or not\n",
        "\n",
        "# To get year (integer input) from the user\n",
        "year = int(input(\"Enter a year: \"))\n",
        "\n",
        "if ((year % 4) == 0 and (year % 100)  != 0) or ((year % 400) == 0):\n",
        "           print(\"{0} is a leap year\".format(year))\n",
        "else:\n",
        "           print(\"{0} is not a leap year\".format(year))\n"
      ],
      "execution_count": 0,
      "outputs": []
    },
    {
      "cell_type": "code",
      "metadata": {
        "id": "rOhVyE2IXeCh",
        "colab_type": "code",
        "colab": {}
      },
      "source": [
        "#Python Program to Generate a Random Number \n",
        "\n",
        "# Program to generate a random number between 0 and 9\n",
        "# import the random module\n",
        "import random\n",
        "print(random.randint(0,9))\n",
        "  \n"
      ],
      "execution_count": 0,
      "outputs": []
    },
    {
      "cell_type": "code",
      "metadata": {
        "id": "8Ix8vpUBXgft",
        "colab_type": "code",
        "colab": {}
      },
      "source": [
        "\n",
        "#Python Program to Convert Kilometers to Miles \n",
        "\n",
        "# To take kilometers from the user, uncomment the code below\n",
        "kilometers = int(input(\"Enter value in kilometers\"))\n",
        "\n",
        "# conversion factor\n",
        "conv_fac = 0.621371\n",
        "\n",
        "# calculate miles\n",
        "miles = kilometers * conv_fac\n",
        "print('%0.3f kilometers is equal to %0.3f miles' %(kilometers,miles))\n"
      ],
      "execution_count": 0,
      "outputs": []
    },
    {
      "cell_type": "code",
      "metadata": {
        "id": "9zEbt1GYXoga",
        "colab_type": "code",
        "colab": {}
      },
      "source": [
        "#Python Program to Solve Quadratic Equation \n",
        "\n",
        "# Solve the quadratic equation ax**2 + bx + c = 0\n",
        "# importing  complex math module\n",
        "import cmath\n",
        "\n",
        " # To take coefficient input from the users\n",
        "a = float(input('Enter a: '))\n",
        "b = float(input('Enter b: '))\n",
        "c = float(input('Enter c: '))\n",
        "\n",
        "# calculate the discriminant\n",
        "d = (b**2) - (4*a*c)\n",
        "\n",
        "# find two solutions\n",
        "sol1 = (-b-cmath.sqrt(d))/(2*a)\n",
        "sol2 = (-b+cmath.sqrt(d))/(2*a)\n",
        "\n",
        "print('The solution are {0} and {1}'.format(sol1,sol2))\n"
      ],
      "execution_count": 0,
      "outputs": []
    },
    {
      "cell_type": "code",
      "metadata": {
        "id": "3BeRMQTBXsj2",
        "colab_type": "code",
        "colab": {}
      },
      "source": [
        "#Python Program to find prime or not using function \n",
        "def test_prime(n):\n",
        "    if (n==1):\n",
        "        return False\n",
        "    elif (n==2):\n",
        "        return True;\n",
        "    else:\n",
        "        for x in range(2,n):\n",
        "            if(n % x==0):\n",
        "                return False\n",
        "        return True\n",
        "no=int(input(\"Enter the number\"))\n",
        "if (test_prime(no)) is True :\n",
        "    print(\" {0} is a prime no\".format(no))\n",
        "else:\n",
        "     print(\" {0} is not a prime no\".format(no))\n",
        "\n"
      ],
      "execution_count": 0,
      "outputs": []
    },
    {
      "cell_type": "code",
      "metadata": {
        "id": "9vTKFuaLXws_",
        "colab_type": "code",
        "colab": {}
      },
      "source": [
        ""
      ],
      "execution_count": 0,
      "outputs": []
    },
    {
      "cell_type": "code",
      "metadata": {
        "id": "Mfr8BN_Rsdf2",
        "colab_type": "code",
        "outputId": "4fd3bb8e-2f59-41e1-8a72-78e6e907f6e8",
        "colab": {
          "base_uri": "https://localhost:8080/",
          "height": 87
        }
      },
      "source": [
        "#Find the compound interest for the given p,n,r (formula : p(1+n*r/100)n )\n",
        "n=int(input(\"enter value of n:\"))\n",
        "p=int(input(\"enter value of p:\"))\n",
        "r=int(input(\"enter value of r:\"))\n",
        "c=p*(1+n*r/100)*n\n",
        "print(\"compound interest is\",c )"
      ],
      "execution_count": 0,
      "outputs": [
        {
          "output_type": "stream",
          "text": [
            "enter value of n2\n",
            "enter value of p3\n",
            "enter value of r45\n",
            "compound interest is 11.399999999999999\n"
          ],
          "name": "stdout"
        }
      ]
    },
    {
      "cell_type": "markdown",
      "metadata": {
        "id": "K9-LYUjRH83R",
        "colab_type": "text"
      },
      "source": [
        "2.\tConvert centegrade to farenheit  ( f= 9/5*c+32)\n"
      ]
    },
    {
      "cell_type": "code",
      "metadata": {
        "id": "lhKKu96IIPkO",
        "colab_type": "code",
        "colab": {}
      },
      "source": [
        "celsius=float(input(\"enter temperature in celsius:\"))\n",
        "fahrenheit=(celsius*9/5)+32\n",
        "print('%.2f celsius is:%0.2f fahrenheit'%(celsius,fahrenheit))"
      ],
      "execution_count": 0,
      "outputs": []
    },
    {
      "cell_type": "markdown",
      "metadata": {
        "id": "AJ9vLXrKt7TI",
        "colab_type": "text"
      },
      "source": [
        "3.\tFind the greater of two nos \n"
      ]
    },
    {
      "cell_type": "code",
      "metadata": {
        "id": "EST1cHfvt-um",
        "colab_type": "code",
        "outputId": "81c9b826-b973-4390-be13-8144cfdb5f14",
        "colab": {
          "base_uri": "https://localhost:8080/",
          "height": 69
        }
      },
      "source": [
        "a=int(input(\"enter value of a:\"))\n",
        "b=int(input(\"enter value of b:\"))\n",
        "if(a>b):\n",
        "  print(\"a is greater\")\n",
        "else:\n",
        "  print(\"b is greater\")"
      ],
      "execution_count": 0,
      "outputs": [
        {
          "output_type": "stream",
          "text": [
            "enter value of a23\n",
            "enter value of b6\n",
            "a is greater\n"
          ],
          "name": "stdout"
        }
      ]
    },
    {
      "cell_type": "markdown",
      "metadata": {
        "id": "8VDXdh0NucTd",
        "colab_type": "text"
      },
      "source": [
        "4.\tWrite a program for finding surface areas of cylinder and cone (2*PI*r*r*h, 1/3*PI*r*r*h) using function."
      ]
    },
    {
      "cell_type": "code",
      "metadata": {
        "id": "KLIIUq5Iughd",
        "colab_type": "code",
        "outputId": "94c46fb8-39f6-48d8-f01f-61c031dc6ee6",
        "colab": {
          "base_uri": "https://localhost:8080/",
          "height": 87
        }
      },
      "source": [
        "def cylinder():\n",
        "  print(\"surface area of cylinder\",2*pi*r*r*h)\n",
        "  return\n",
        "def cone():\n",
        "  print(\"surface area of cone\",(1/3)*pi*r*r*h)\n",
        "  return\n",
        "pi=3.14\n",
        "r=int(input(\"enter value of r\"))\n",
        "h=int(input(\"enter value of h\"))\n",
        "cylinder()\n",
        "cone()"
      ],
      "execution_count": 0,
      "outputs": [
        {
          "output_type": "stream",
          "text": [
            "enter value of r5\n",
            "enter value of h13\n",
            "surface area of cylinder 2041.0\n",
            "surface area of cone 340.1666666666667\n"
          ],
          "name": "stdout"
        }
      ]
    },
    {
      "cell_type": "markdown",
      "metadata": {
        "id": "4k_guogNyK02",
        "colab_type": "text"
      },
      "source": [
        "5.\tFind the greatest of four nos ( using ‘and’ operator)   using function."
      ]
    },
    {
      "cell_type": "code",
      "metadata": {
        "id": "nT8GRTawyOyc",
        "colab_type": "code",
        "outputId": "8e10f287-7b62-4489-a643-6ef3ba61c101",
        "colab": {
          "base_uri": "https://localhost:8080/",
          "height": 104
        }
      },
      "source": [
        "\n",
        "def greater():\n",
        "  if((a>b) and (a>c) and (a>d)):\n",
        "    print(\"a is greater\")\n",
        "  if(b>a and b>c and b>d):\n",
        "    print(\"b is greater\")\n",
        "  if(c>a and c>b and c>d):\n",
        "    print(\"c is greater\")\n",
        "  else:\n",
        "    print(\"d is greater\")\n",
        "a=int(input(\"enter a:\"))\n",
        "b=int(input(\"enter b:\"))\n",
        "c=int(input(\"enter c:\"))\n",
        "d=int(input(\"enter d:\"))\n",
        "greater()"
      ],
      "execution_count": 0,
      "outputs": [
        {
          "output_type": "stream",
          "text": [
            "enter a:3\n",
            "enter b:4\n",
            "enter c:6\n",
            "enter d:7\n",
            "d is greater\n"
          ],
          "name": "stdout"
        }
      ]
    },
    {
      "cell_type": "markdown",
      "metadata": {
        "id": "WVrkHkOZ0Tgr",
        "colab_type": "text"
      },
      "source": [
        "6.\tWrite a  menu program to perform the operations ( ODDorEven, Factorial, ODDNoUptoN, PrimeUptoN ) using functions for two nos with  menu choice"
      ]
    },
    {
      "cell_type": "code",
      "metadata": {
        "id": "sbO8Fyk34RQL",
        "colab_type": "code",
        "outputId": "027669a6-4973-4120-f99d-66069ca14d04",
        "colab": {
          "base_uri": "https://localhost:8080/",
          "height": 1000
        }
      },
      "source": [
        "loop = 1 \n",
        "choice = 0 \n",
        "def oddoreven():\n",
        "  if(n%2==0):\n",
        "   print(\"number is even\")\n",
        "  else:\n",
        "    print(\"number is odd\")\n",
        "\n",
        "def fact(): \n",
        "  f = 1\n",
        "  if num < 0:\n",
        "    print(\"Sorry, factorial does not exist for negative numbers\")\n",
        "  elif num == 0:\n",
        "    print(\"The factorial of 0 is 1\")\n",
        "  else:\n",
        "    for i in range(1,num + 1):\n",
        "        f=f*i\n",
        "  print(\"fact is\",f)\n",
        "       \n",
        "def oddno():\n",
        "  for i in range(1,n,2):\n",
        "    print(i)\n",
        "def prime(l,h):\n",
        "  print(\"prime numbers:\")\n",
        "  for num in range(l,h+1):\n",
        "    if num>1:\n",
        "      for i in range(2,num):\n",
        "        if(num%i)==0:\n",
        "          break\n",
        "      else:\n",
        "        print(num)\n",
        "while loop == 1:\n",
        "    print(\"1) odd or even\")\n",
        "    print(\"2) factorial\")\n",
        "    print(\"3) odd number\")\n",
        "    print(\"4) prime number upto n\")\n",
        "    print(\"5) Quit calculator.py\")\n",
        "    print(\" \")\n",
        "    try:\n",
        "        choice = int(input(\"Choose your option: \"))\n",
        "    except:\n",
        "        print('please enter a valid number for option')\n",
        "    print(\" \")\n",
        "    print(\" \")\n",
        "    if choice == 1:\n",
        "        n = int(input(\"Enter n value: \"))\n",
        "        print(\"The answer is \",oddoreven())\n",
        "    elif choice ==2:\n",
        "         num = int(input(\"Enter n value: \"))\n",
        "         print(\"The answer is \",fact())\n",
        "\n",
        "    elif choice ==3:\n",
        "         n = int(input(\"Enter n value: \"))\n",
        "         print(\"The answer is \",oddno())\n",
        "    elif choice ==4:\n",
        "        \n",
        "         l=int(input(\"enter lower range\"))\n",
        "         h=int(input(\"enter higher range\"))\n",
        "         print(\"The answer is \",prime(l,h))\n",
        "    elif choice == 5:\n",
        "      loop = 0\n",
        "\n",
        "    \n",
        "    else:\n",
        "        print(\"please choice a valid option from 1 to 5\")\n",
        "        choice=0\n",
        "        print (\"Thank-you for using calculator.py!\")"
      ],
      "execution_count": 0,
      "outputs": [
        {
          "output_type": "stream",
          "text": [
            "1) odd or even\n",
            "2) factorial\n",
            "3) odd number\n",
            "5) Quit calculator.py\n",
            " \n",
            " \n",
            " \n",
            "number is even\n",
            "The answer is  None\n",
            "1) odd or even\n",
            "2) factorial\n",
            "3) odd number\n",
            "5) Quit calculator.py\n",
            " \n",
            " \n",
            " \n",
            "fact is 24\n",
            "The answer is  None\n",
            "1) odd or even\n",
            "2) factorial\n",
            "3) odd number\n",
            "5) Quit calculator.py\n",
            " \n",
            " \n",
            " \n",
            "1\n",
            "3\n",
            "5\n",
            "7\n",
            "9\n",
            "The answer is  None\n",
            "1) odd or even\n",
            "2) factorial\n",
            "3) odd number\n",
            "5) Quit calculator.py\n",
            " \n",
            " \n",
            " \n",
            "please choice a valid option from 1 to 5\n",
            "Thank-you for using calculator.py!\n",
            "1) odd or even\n",
            "2) factorial\n",
            "3) odd number\n",
            "5) Quit calculator.py\n",
            " \n",
            "please enter a valid number for option\n",
            " \n",
            " \n",
            "please choice a valid option from 1 to 5\n",
            "Thank-you for using calculator.py!\n",
            "1) odd or even\n",
            "2) factorial\n",
            "3) odd number\n",
            "5) Quit calculator.py\n",
            " \n",
            "please enter a valid number for option\n",
            " \n",
            " \n",
            "please choice a valid option from 1 to 5\n",
            "Thank-you for using calculator.py!\n",
            "1) odd or even\n",
            "2) factorial\n",
            "3) odd number\n",
            "5) Quit calculator.py\n",
            " \n",
            "please enter a valid number for option\n",
            " \n",
            " \n",
            "please choice a valid option from 1 to 5\n",
            "Thank-you for using calculator.py!\n",
            "1) odd or even\n",
            "2) factorial\n",
            "3) odd number\n",
            "5) Quit calculator.py\n",
            " \n"
          ],
          "name": "stdout"
        }
      ]
    },
    {
      "cell_type": "code",
      "metadata": {
        "id": "VL6Nj-J8B6yn",
        "colab_type": "code",
        "colab": {}
      },
      "source": [
        ""
      ],
      "execution_count": 0,
      "outputs": []
    }
  ]
}